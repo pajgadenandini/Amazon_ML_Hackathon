{
  "nbformat": 4,
  "nbformat_minor": 0,
  "metadata": {
    "colab": {
      "provenance": []
    },
    "kernelspec": {
      "name": "python3",
      "display_name": "Python 3"
    },
    "language_info": {
      "name": "python"
    }
  },
  "cells": [
    {
      "cell_type": "code",
      "execution_count": 2,
      "metadata": {
        "colab": {
          "base_uri": "https://localhost:8080/"
        },
        "id": "71bItCzshJt4",
        "outputId": "52cb5063-b0fa-41d1-9b9a-245666e28a24"
      },
      "outputs": [
        {
          "output_type": "stream",
          "name": "stderr",
          "text": [
            "/usr/local/lib/python3.10/dist-packages/sklearn/preprocessing/_encoders.py:975: FutureWarning: `sparse` was renamed to `sparse_output` in version 1.2 and will be removed in 1.4. `sparse_output` is ignored unless you leave `sparse` to its default value.\n",
            "  warnings.warn(\n"
          ]
        },
        {
          "output_type": "stream",
          "name": "stdout",
          "text": [
            "Submission file saved as submission.csv\n"
          ]
        }
      ],
      "source": [
        "import pandas as pd\n",
        "import numpy as np\n",
        "from sklearn.model_selection import train_test_split\n",
        "from sklearn.preprocessing import OneHotEncoder\n",
        "from sklearn.tree import DecisionTreeRegressor\n",
        "from sklearn.metrics import mean_squared_error\n",
        "\n",
        "# Constants: Mapping of entity names to allowed units\n",
        "entity_unit_map = {\n",
        "    'width': 'centimetre',\n",
        "    'depth': 'centimetre',\n",
        "    'height': 'centimetre',\n",
        "    'item_weight': 'kilogram',\n",
        "    'maximum_weight_recommendation': 'kilogram',\n",
        "    'voltage': 'volt',\n",
        "    'wattage': 'watt',\n",
        "    'item_volume': 'litre'\n",
        "}\n",
        "\n",
        "# Step 1: Load train and test data\n",
        "train_df = pd.read_csv('/content/drive/MyDrive/Colab Notebooks/train.csv')\n",
        "test_df = pd.read_csv('/content/drive/MyDrive/Colab Notebooks/test.csv')\n",
        "\n",
        "# Step 2: Extract numeric value from 'entity_value' column\n",
        "train_df['numeric_value'] = train_df['entity_value'].str.extract(r'(\\d+\\.\\d+|\\d+)').astype(float)\n",
        "\n",
        "# Step 3: Prepare OneHotEncoder for 'group_id' and 'entity_name'\n",
        "ohe = OneHotEncoder(handle_unknown='ignore', sparse=False)\n",
        "\n",
        "# Fit and transform train data\n",
        "X_train_cat = ohe.fit_transform(train_df[['group_id', 'entity_name']])\n",
        "X_test_cat = ohe.transform(test_df[['group_id', 'entity_name']])\n",
        "\n",
        "# Step 4: Create DataFrame for categorical features\n",
        "X_train = pd.DataFrame(X_train_cat, columns=ohe.get_feature_names_out())\n",
        "X_test = pd.DataFrame(X_test_cat, columns=ohe.get_feature_names_out())\n",
        "\n",
        "# Step 5: Define the target variable\n",
        "y_train = train_df['numeric_value']\n",
        "\n",
        "# Step 6: Use a simple DecisionTreeRegressor for faster training\n",
        "model = DecisionTreeRegressor(random_state=42)\n",
        "model.fit(X_train, y_train)\n",
        "\n",
        "# Step 7: Predict numeric values for the test set\n",
        "pred_numeric_values = model.predict(X_test)\n",
        "\n",
        "# Step 8: Standardize the unit for each entity type\n",
        "def standardize_unit(entity_name):\n",
        "    \"\"\"\n",
        "    Get the standardized unit for the entity name from the entity_unit_map.\n",
        "    If the entity name is not in the map, default to 'unit'.\n",
        "    \"\"\"\n",
        "    return entity_unit_map.get(entity_name, 'unit')\n",
        "\n",
        "# Step 9: Format predictions\n",
        "def format_prediction(value, entity_name):\n",
        "    \"\"\"\n",
        "    Format the prediction with standardized units and numeric value.\n",
        "    \"\"\"\n",
        "    unit = standardize_unit(entity_name)\n",
        "    return f\"{value:.2f} {unit}\"\n",
        "\n",
        "# Applying the format_prediction function to the predicted values\n",
        "test_df['prediction'] = [format_prediction(val, name) for val, name in zip(pred_numeric_values, test_df['entity_name'])]\n",
        "\n",
        "# Step 10: Create a CSV file for submission\n",
        "submission_df = test_df[['index', 'prediction']]\n",
        "submission_df.to_csv('submission.csv', index=False)\n",
        "\n",
        "print(\"Submission file saved as submission.csv\")\n"
      ]
    },
    {
      "cell_type": "code",
      "source": [
        "from google.colab import drive\n",
        "drive.mount('/content/drive')"
      ],
      "metadata": {
        "colab": {
          "base_uri": "https://localhost:8080/"
        },
        "id": "hTz5pD-RhSOX",
        "outputId": "c25eebb6-67a6-4810-f463-b25eff4a0622"
      },
      "execution_count": 1,
      "outputs": [
        {
          "output_type": "stream",
          "name": "stdout",
          "text": [
            "Mounted at /content/drive\n"
          ]
        }
      ]
    }
  ]
}